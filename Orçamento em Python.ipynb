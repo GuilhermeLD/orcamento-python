{
 "cells": [
  {
   "cell_type": "markdown",
   "id": "b9f0f0df",
   "metadata": {},
   "source": [
    "## Recebendo e armazenado dados"
   ]
  },
  {
   "cell_type": "code",
   "execution_count": 60,
   "id": "4c05adeb",
   "metadata": {},
   "outputs": [
    {
     "name": "stdout",
     "output_type": "stream",
     "text": [
      "Digite a descrição do Projeto: Pintura\n",
      "Digite a quantidade de horas previstas: 5\n",
      "Digite o valor da hora trabalhada: 1000\n",
      "Digite o prazo estimado: 1 dia\n"
     ]
    }
   ],
   "source": [
    "descricao_projeto = input(\"Digite a descrição do Projeto: \")\n",
    "horas_previstas = input(\"Digite a quantidade de horas previstas: \")\n",
    "valor_hora = input(\"Digite o valor da hora trabalhada: \")\n",
    "prazo = input(\"Digite o prazo estimado: \")"
   ]
  },
  {
   "cell_type": "code",
   "execution_count": null,
   "id": "49261084",
   "metadata": {},
   "outputs": [],
   "source": []
  },
  {
   "cell_type": "code",
   "execution_count": 61,
   "id": "ac535bea",
   "metadata": {},
   "outputs": [
    {
     "name": "stdout",
     "output_type": "stream",
     "text": [
      "5000\n"
     ]
    }
   ],
   "source": [
    "# Gerando valor total\n",
    "\n",
    "valor_total = int(horas_previstas) * int(valor_hora)\n",
    "print(valor_total)"
   ]
  },
  {
   "cell_type": "markdown",
   "id": "492dd214",
   "metadata": {},
   "source": [
    "## Gerando o orçamento"
   ]
  },
  {
   "cell_type": "code",
   "execution_count": 54,
   "id": "15194d52",
   "metadata": {
    "scrolled": true
   },
   "outputs": [
    {
     "name": "stdout",
     "output_type": "stream",
     "text": [
      "Collecting fpdf\n",
      "  Downloading fpdf-1.7.2.tar.gz (39 kB)\n",
      "  Preparing metadata (setup.py): started\n",
      "  Preparing metadata (setup.py): finished with status 'done'\n",
      "Building wheels for collected packages: fpdf\n",
      "  Building wheel for fpdf (setup.py): started\n",
      "  Building wheel for fpdf (setup.py): finished with status 'done'\n",
      "  Created wheel for fpdf: filename=fpdf-1.7.2-py2.py3-none-any.whl size=40713 sha256=910a25b46c7f2e27845072f1a241bda5c94a91b7346adf315ec04f23060f22c6\n",
      "  Stored in directory: c:\\users\\guilherme\\appdata\\local\\pip\\cache\\wheels\\65\\4f\\66\\bbda9866da446a72e206d6484cd97381cbc7859a7068541c36\n",
      "Successfully built fpdf\n",
      "Installing collected packages: fpdf\n",
      "Successfully installed fpdf-1.7.2\n"
     ]
    }
   ],
   "source": [
    "# Instalando a Biblioteca de pdf\n",
    "\n",
    "!pip install fpdf"
   ]
  },
  {
   "cell_type": "code",
   "execution_count": 55,
   "id": "5f84c494",
   "metadata": {},
   "outputs": [],
   "source": [
    "from fpdf import FPDF"
   ]
  },
  {
   "cell_type": "code",
   "execution_count": 62,
   "id": "136af4ab",
   "metadata": {},
   "outputs": [
    {
     "data": {
      "text/plain": [
       "''"
      ]
     },
     "execution_count": 62,
     "metadata": {},
     "output_type": "execute_result"
    }
   ],
   "source": [
    "# Setando as config do PDF e seu conteúdo\n",
    "\n",
    "pdf = FPDF()\n",
    "\n",
    "pdf.add_page()\n",
    "pdf.set_font(\"Arial\")\n",
    "pdf.image(\"template.png\", x=0, y=0)\n",
    "\n",
    "pdf.text(115, 145, descricao_projeto)\n",
    "pdf.text(115, 160, horas_previstas)\n",
    "pdf.text(115, 175, valor_hora)\n",
    "pdf.text(115, 190, prazo)\n",
    "pdf.text(115, 205, str(valor_total))\n",
    "\n",
    "pdf.output(\"Orçamento PDF.pdf\")"
   ]
  }
 ],
 "metadata": {
  "kernelspec": {
   "display_name": "Python 3 (ipykernel)",
   "language": "python",
   "name": "python3"
  },
  "language_info": {
   "codemirror_mode": {
    "name": "ipython",
    "version": 3
   },
   "file_extension": ".py",
   "mimetype": "text/x-python",
   "name": "python",
   "nbconvert_exporter": "python",
   "pygments_lexer": "ipython3",
   "version": "3.11.5"
  }
 },
 "nbformat": 4,
 "nbformat_minor": 5
}
